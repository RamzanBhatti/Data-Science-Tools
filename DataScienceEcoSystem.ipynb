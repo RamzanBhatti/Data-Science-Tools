{
 "cells": [
  {
   "cell_type": "markdown",
   "id": "36c40c22-c002-4de3-bcc0-20c8e87920b6",
   "metadata": {},
   "source": [
    "<h1>Data Science Tool and Ecosystem </h1>"
   ]
  },
  {
   "cell_type": "markdown",
   "id": "a0b4b553-7207-41fe-9e7b-21c85e69e167",
   "metadata": {},
   "source": [
    "<h4> In this notebook, Data Science Tools and Ecosystem are summarized </h4>"
   ]
  },
  {
   "cell_type": "markdown",
   "id": "f4b2f12b-a6a6-4bdc-8256-ea782db5a41e",
   "metadata": {},
   "source": [
    "<h4> Some of the popular Data Science languages are: </h4>\n",
    "<ul>\n",
    "  <li>Python</li>\n",
    "  <li>R</li>\n",
    "  <li>SQL</li>\n",
    "  <li>Java</li>\n",
    "  <li>C++</li>\n",
    "  <li>Scala</li>\n",
    "</ul>\n",
    "\n"
   ]
  },
  {
   "cell_type": "markdown",
   "id": "6b4a5313-428d-4f83-b0f4-07767e53efc2",
   "metadata": {
    "tags": []
   },
   "source": [
    "<h4> Some of the commonly used libraries by Data Scientists are:</h4>\n",
    "<ol>\n",
    "  <li>Pandas</li>\n",
    "  <li>Numpy</li>\n",
    "  <li>Scikit-learn</li>\n",
    "  <li>Matplotlib</li>\n",
    "  <li>Tensorflow</li>\n",
    "  <li>Keras</li>\n",
    "  <li>Pytorch</li>\n",
    "  <li>Vegas</li>\n",
    "  <li>Seaborn</li>\n",
    "  <li>Big DL</li>\n",
    "</ol>\n"
   ]
  },
  {
   "cell_type": "markdown",
   "id": "dbc36802-d314-480c-a087-b663200e67f4",
   "metadata": {},
   "source": [
    "<table>\n",
    "    <tr>\n",
    "        <th> Data Science Tools </th>\n",
    "    </tr>\n",
    "    <tr>\n",
    "        <td> Anaconda </td>\n",
    "    </tr>\n",
    "    <tr>\n",
    "        <td> Jupyter Notebook </td>\n",
    "    </tr>\n",
    "    <tr>\n",
    "        <td> R Studio IDE </td>\n",
    "    </tr>\n",
    "    <tr>\n",
    "        <td> Spyder </td>\n",
    "    </tr>\n",
    "    <tr>\n",
    "        <td> Zeppelin </td>\n",
    "    </tr>\n",
    "    \n",
    "</table>\n",
    "\n",
    "    \n",
    "        "
   ]
  },
  {
   "cell_type": "markdown",
   "id": "17ead3aa-87c9-40db-ae97-3520f259831f",
   "metadata": {},
   "source": [
    "<h3> Below are a few examples of evaluating arithmetic expressions in python </h3>\n"
   ]
  },
  {
   "cell_type": "code",
   "execution_count": 1,
   "id": "c96d2fb1-baf8-4152-8992-08dd91daa34b",
   "metadata": {},
   "outputs": [
    {
     "data": {
      "text/plain": [
       "17"
      ]
     },
     "execution_count": 1,
     "metadata": {},
     "output_type": "execute_result"
    }
   ],
   "source": [
    "# This is a simple arithmatic expression to multiply and then add number\n",
    "(3*4)+5"
   ]
  },
  {
   "cell_type": "code",
   "execution_count": 1,
   "id": "7ac9a26f-a071-4c53-a539-5825902cc43e",
   "metadata": {},
   "outputs": [
    {
     "data": {
      "text/plain": [
       "3"
      ]
     },
     "execution_count": 1,
     "metadata": {},
     "output_type": "execute_result"
    }
   ],
   "source": [
    "# This will convert 200 minutes to hours divide by 60\n",
    "200//60"
   ]
  },
  {
   "cell_type": "markdown",
   "id": "8740889b-264c-47d6-986f-a7c2c56a625a",
   "metadata": {},
   "source": [
    "<h3> Objectives: </h3>\n",
    "\n",
    "\n"
   ]
  },
  {
   "cell_type": "markdown",
   "id": "55080172",
   "metadata": {},
   "source": [
    "<ul>\n",
    "    <li>Add comments to code </li>\n",
    "    <li>Create markdown cells </li>\n",
    "    <li>Add ordered and unordered lists to markdown cells </li>\n",
    "    <li>Format content of markdown cells with heading styles </li>\n",
    "</ul>"
   ]
  },
  {
   "cell_type": "markdown",
   "id": "e24d95c9-9044-48e7-9662-39ae910d7843",
   "metadata": {},
   "source": [
    "<h2> Aurthor </h2>\n",
    "<h2> Muhammad Ramzan </h2>"
   ]
  },
  {
   "cell_type": "markdown",
   "id": "2e53d84b",
   "metadata": {},
   "source": []
  }
 ],
 "metadata": {
  "kernelspec": {
   "display_name": "Python",
   "language": "python",
   "name": "conda-env-python-py"
  },
  "language_info": {
   "codemirror_mode": {
    "name": "ipython",
    "version": 3
   },
   "file_extension": ".py",
   "mimetype": "text/x-python",
   "name": "python",
   "nbconvert_exporter": "python",
   "pygments_lexer": "ipython3",
   "version": "3.7.12"
  }
 },
 "nbformat": 4,
 "nbformat_minor": 5
}
